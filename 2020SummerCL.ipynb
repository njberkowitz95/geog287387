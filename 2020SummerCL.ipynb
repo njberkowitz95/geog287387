{
  "nbformat": 4,
  "nbformat_minor": 0,
  "metadata": {
    "colab": {
      "name": "2020SummerCL.ipynb",
      "provenance": [],
      "collapsed_sections": [],
      "toc_visible": true,
      "include_colab_link": true
    },
    "kernelspec": {
      "name": "python3",
      "display_name": "Python 3"
    }
  },
  "cells": [
    {
      "cell_type": "markdown",
      "metadata": {
        "id": "view-in-github",
        "colab_type": "text"
      },
      "source": [
        "<a href=\"https://colab.research.google.com/github/njberkowitz95/geog287387/blob/master/2020SummerCL.ipynb\" target=\"_parent\"><img src=\"https://colab.research.google.com/assets/colab-badge.svg\" alt=\"Open In Colab\"/></a>"
      ]
    },
    {
      "cell_type": "markdown",
      "metadata": {
        "id": "xRArU_aAcgH2",
        "colab_type": "text"
      },
      "source": [
        "# Import GEE API"
      ]
    },
    {
      "cell_type": "code",
      "metadata": {
        "id": "BJsCxbMKcfQH",
        "colab_type": "code",
        "outputId": "d97cc82a-0c19-459c-f94c-57ecc6714de1",
        "colab": {
          "base_uri": "https://localhost:8080/",
          "height": 167
        }
      },
      "source": [
        "from google.colab import auth\n",
        "auth.authenticate_user()\n",
        "\n",
        "import ee\n",
        "ee.Authenticate()\n",
        "ee.Initialize()\n",
        "\n",
        "# use the Folium library for visualization\n",
        "import folium"
      ],
      "execution_count": 0,
      "outputs": [
        {
          "output_type": "stream",
          "text": [
            "To authorize access needed by Earth Engine, open the following URL in a web browser and follow the instructions. If the web browser does not start automatically, please manually browse the URL below.\n",
            "\n",
            "    https://accounts.google.com/o/oauth2/auth?client_id=517222506229-vsmmajv00ul0bs7p89v5m89qs8eb9359.apps.googleusercontent.com&scope=https%3A%2F%2Fwww.googleapis.com%2Fauth%2Fearthengine+https%3A%2F%2Fwww.googleapis.com%2Fauth%2Fdevstorage.full_control&redirect_uri=urn%3Aietf%3Awg%3Aoauth%3A2.0%3Aoob&response_type=code&code_challenge=TDL-bCJXGossMEaBvXhtIbXIVhAiFiw5_obloUp-jyQ&code_challenge_method=S256\n",
            "\n",
            "The authorization workflow will generate a code, which you should paste in the box below. \n",
            "Enter verification code: 4/1AG4SH5lDi-ma8wcoapywJvqBl-12fdm4HYTIDJabBfhVj9igDCAjGk\n",
            "\n",
            "Successfully saved authorization token.\n"
          ],
          "name": "stdout"
        }
      ]
    },
    {
      "cell_type": "markdown",
      "metadata": {
        "id": "Voj5BWXoAMaJ",
        "colab_type": "text"
      },
      "source": [
        "# Define variables "
      ]
    },
    {
      "cell_type": "code",
      "metadata": {
        "id": "2B7gt0drAL3n",
        "colab_type": "code",
        "colab": {}
      },
      "source": [
        "# import data from earth engine asset\n",
        "# missing mask\n",
        "missing_18 = ee.Image('users/zhmeng0119/missing_18')\n",
        "# print(missing_18)\n",
        "# vectorized training sites \n",
        "training_vct = ee.FeatureCollection('users/zhmeng0119/vct_training4k_Chanthaburi')\n",
        "\n",
        "# create the point of interest\n",
        "POI = ee.Geometry.Point(101.995989,13.012611);\n",
        "\n",
        "# use landsat 8 T1 level data\n",
        "landsat8 = ee.ImageCollection(\"LANDSAT/LC08/C01/T1_TOA\")"
      ],
      "execution_count": 0,
      "outputs": []
    },
    {
      "cell_type": "markdown",
      "metadata": {
        "id": "JWBU0oCcc27G",
        "colab_type": "text"
      },
      "source": [
        "# Load up data"
      ]
    },
    {
      "cell_type": "code",
      "metadata": {
        "id": "2zA3Y1QJc6_3",
        "colab_type": "code",
        "colab": {}
      },
      "source": [
        "# filter the date of data by POI\n",
        "landsat8 = ee.ImageCollection(\"LANDSAT/LC08/C01/T1_TOA\")\n",
        "l8filtered = landsat8.filterBounds(POI).filterDate('2018-01-01', '2018-12-31').first()\n",
        "# print(l8filtered)\n",
        "\n",
        "# visualize the data\n",
        "# use folium to visualize the imagery.\n",
        "mapid = l8filtered.getMapId({'bands': ['B4', 'B3', 'B2'], 'min': 0, 'max': 0.3})\n",
        "map = folium.Map(location=[13.012611,101.995989])\n",
        "\n",
        "folium.TileLayer(\n",
        "    tiles=mapid['tile_fetcher'].url_format,\n",
        "    attr='Map Data &copy; <a href=\"https://earthengine.google.com/\">Google Earth Engine</a>',\n",
        "    overlay=True,\n",
        "    name='median composite',\n",
        "  ).add_to(map)\n",
        "\n",
        "map.add_child(folium.LayerControl())\n",
        "map"
      ],
      "execution_count": 0,
      "outputs": []
    },
    {
      "cell_type": "code",
      "metadata": {
        "id": "3i7pXq0D3o6x",
        "colab_type": "code",
        "colab": {}
      },
      "source": [
        "# # filter the date of data by POI\n",
        "# landsat8 = ee.ImageCollection(\"LANDSAT/LC08/C01/T1_TOA\")\n",
        "# l8filtered = landsat8.filterBounds(POI).filterDate('2018-01-01', '2018-12-31').first()\n",
        "# # pansharpending\n",
        "# hsv = l8filtered.select(['B4', 'B3', 'B2']).rgbToHsv();\n",
        "# l8filtered = ee.Image.cat([\n",
        "#   hsv.select('hue'), hsv.select('saturation'), l8filtered.select('B8')\n",
        "# ]).hsvToRgb();\n",
        "# # print(sharpened)\n",
        "\n",
        "# # print(l8filtered)\n",
        "\n",
        "# # visualize the data\n",
        "# # use folium to visualize the imagery.\n",
        "# mapid = l8filtered.getMapId({'bands': ['red', 'green', 'blue'], 'min': 0, 'max': 0.3})\n",
        "# map = folium.Map(location=[13.012611,101.995989])\n",
        "\n",
        "# folium.TileLayer(\n",
        "#     tiles=mapid['tile_fetcher'].url_format,\n",
        "#     attr='Map Data &copy; <a href=\"https://earthengine.google.com/\">Google Earth Engine</a>',\n",
        "#     overlay=True,\n",
        "#     name='median composite',\n",
        "#   ).add_to(map)\n",
        "\n",
        "# map.add_child(folium.LayerControl())\n",
        "# map"
      ],
      "execution_count": 0,
      "outputs": []
    },
    {
      "cell_type": "markdown",
      "metadata": {
        "id": "4GXTvaANB7yu",
        "colab_type": "text"
      },
      "source": [
        "#Preprocess data"
      ]
    },
    {
      "cell_type": "code",
      "metadata": {
        "id": "D14sxc_DCCWK",
        "colab_type": "code",
        "colab": {}
      },
      "source": [
        "# apply missing mask\n",
        "masked_l8 = l8filtered.updateMask(missing_18);\n",
        "\n",
        "#Exoprt panchromatic band \n",
        "# B8Panchromatic = masked_l8.select(['B8'])\n",
        "# assexport = ee.batch.Export.image.toDrive(B8Panchromatic,\n",
        "#                 description='assetExportTask', \n",
        "#                 folder='DATA_2020SummerCL',\n",
        "#                 fileNamePrefix='B8Panchromatic',\n",
        "#                 scale=15,\n",
        "#                 maxPixels=9000000000)\n",
        "# assexportid = str(assexport.id)\n",
        "# print('****Exporting to Assets, task id: %s '%assexportid)\n",
        "# assexport.start() \n",
        "\n",
        "# Export masked_l8 to drive for pansharpen process\n",
        "# assexport = ee.batch.Export.image.toDrive(masked_l8.select(['B1', 'B2', 'B3', 'B4', 'B5', 'B6', 'B7']),\n",
        "#                 description='assetExportTask', \n",
        "#                 folder='DATA_2020SummerCL',\n",
        "#                 fileNamePrefix='Landsat8Image_training_input',\n",
        "#                 scale=30,\n",
        "#                 maxPixels=9000000000)\n",
        "# assexportid = str(assexport.id)\n",
        "# print('****Exporting to Assets, task id: %s '%assexportid)\n",
        "# assexport.start() \n",
        "\n",
        "# select the training data for each class\n",
        "mangrove = training_vct.filter(ee.Filter.eq(\"grid_code\",1))\n",
        "wetland = training_vct.filter(ee.Filter.eq(\"grid_code\",2))\n",
        "pond = training_vct.filter(ee.Filter.eq(\"grid_code\",3))\n",
        "water = training_vct.filter(ee.Filter.eq(\"grid_code\",4))\n",
        "other = training_vct.filter(ee.Filter.eq(\"grid_code\",5))\n",
        "# print(other)\n",
        "\n",
        "# Set the class \"mangrove\" to 1 and all others to 0\n",
        "def setClass(feat):\n",
        "  return feat.set(\"class\",1)\n",
        "\n",
        "def setOther(feat):\n",
        "  return feat.set(\"class\",0)\n",
        "\n",
        "man = mangrove.map(setClass)\n",
        "oth = wetland.map(setOther).merge(pond.map(setOther)).merge(water.map(setOther)).merge(other.map(setOther))\n",
        "\n",
        "referenceData = man.merge(oth)"
      ],
      "execution_count": 0,
      "outputs": []
    },
    {
      "cell_type": "markdown",
      "metadata": {
        "id": "nWzZ0H9qCzan",
        "colab_type": "text"
      },
      "source": [
        "#Random Forest Classification with GEE Python Library"
      ]
    },
    {
      "cell_type": "markdown",
      "metadata": {
        "id": "7gYuFvwpzrZz",
        "colab_type": "text"
      },
      "source": [
        "##Part A: regular RF for all class"
      ]
    },
    {
      "cell_type": "code",
      "metadata": {
        "id": "V0nLETZnzxCF",
        "colab_type": "code",
        "colab": {}
      },
      "source": [
        "# Sample data\n",
        "trainingA = masked_l8.sampleRegions(training_vct,['grid_code'],30);\n",
        "# Define a classifier and train it\n",
        "classifierA = ee.Classifier.smileRandomForest(10).train(trainingA,'grid_code',['B1', 'B2', 'B3', 'B4', 'B5', 'B6', 'B7']);\n",
        "# classifierA = ee.Classifier.smileRandomForest(10).train(trainingA,'grid_code',['red', 'green', 'blue']);\n",
        "# Classify masked_l8.\n",
        "classifiedA = masked_l8.classify(classifierA);\n",
        "# print(classifiedA)\n",
        "\n",
        "# visualize the result\n",
        "# use folium to visualize the imagery.\n",
        "resultidA = classifiedA.getMapId({'bands': ['classification'], 'min': 1, 'max': 5, 'palette': [\"e07a5f\",\"3d405b\",\"81b29a\",\"f2cc8f\",\"ff0e19\"]})\n",
        "map = folium.Map(location=[13.012611,101.995989])\n",
        "\n",
        "folium.TileLayer(\n",
        "    tiles=resultidA['tile_fetcher'].url_format,\n",
        "    attr='Map Data &copy; <a href=\"https://earthengine.google.com/\">Google Earth Engine</a>',\n",
        "    overlay=True,\n",
        "    name='median composite',\n",
        "  ).add_to(map)\n",
        "map.add_child(folium.LayerControl())\n",
        "map"
      ],
      "execution_count": 0,
      "outputs": []
    },
    {
      "cell_type": "markdown",
      "metadata": {
        "id": "_m1pus8d1QHf",
        "colab_type": "text"
      },
      "source": [
        "##Part B: soft RF for one class (Mangrove)"
      ]
    },
    {
      "cell_type": "code",
      "metadata": {
        "id": "eCc-vUyEC7di",
        "colab_type": "code",
        "outputId": "92a2ce10-e0a4-46a8-ba5d-0ec2c1992dbc",
        "colab": {
          "base_uri": "https://localhost:8080/",
          "height": 1000
        }
      },
      "source": [
        "# sample data\n",
        "trainingB = masked_l8.sampleRegions(referenceData,['class'],masked_l8.get('GRID_CELL_SIZE_REFLECTIVE'));\n",
        "# print(trainingB)\n",
        "# define a classifier and train it\n",
        "classifierB = ee.Classifier.smileRandomForest(10).setOutputMode('PROBABILITY').train(trainingB,'class',['B1', 'B2', 'B3', 'B4', 'B5', 'B6', 'B7']);\n",
        "# Classify masked_l8.\n",
        "classifiedB = masked_l8.classify(classifierB);\n",
        "\n",
        "# # visualize the result\n",
        "# # use folium to visualize the imagery.\n",
        "palette = ['black','blue','green','yellow','orange','red','purple']\n",
        "resultidB = classifiedB.getMapId({'bands': ['classification'], 'min': 0, 'max': 1,'palette':palette})\n",
        "map = folium.Map(location=[13.012611,101.995989])\n",
        "\n",
        "folium.TileLayer(\n",
        "    tiles=resultidB['tile_fetcher'].url_format,\n",
        "    attr='Map Data &copy; <a href=\"https://earthengine.google.com/\">Google Earth Engine</a>',\n",
        "    overlay=True,\n",
        "    name='median composite',\n",
        "  ).add_to(map)\n",
        "map.add_child(folium.LayerControl())\n",
        "map"
      ],
      "execution_count": 0,
      "outputs": [
        {
          "output_type": "execute_result",
          "data": {
            "text/html": [
              "<div style=\"width:100%;\"><div style=\"position:relative;width:100%;height:0;padding-bottom:60%;\"><span style=\"color:#565656\">Make this Notebook Trusted to load map: File -> Trust Notebook</span><iframe src=\"about:blank\" style=\"position:absolute;width:100%;height:100%;left:0;top:0;border:none !important;\" data-html=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 onload=\"this.contentDocument.open();this.contentDocument.write(atob(this.getAttribute('data-html')));this.contentDocument.close();\" allowfullscreen webkitallowfullscreen mozallowfullscreen></iframe></div></div>"
            ],
            "text/plain": [
              "<folium.folium.Map at 0x7f6cf3b937b8>"
            ]
          },
          "metadata": {
            "tags": []
          },
          "execution_count": 8
        }
      ]
    },
    {
      "cell_type": "code",
      "metadata": {
        "id": "xfg5FamjtM9Y",
        "colab_type": "code",
        "outputId": "5fc9c5b1-9706-4ad1-b0cb-6af17c2af353",
        "colab": {
          "base_uri": "https://localhost:8080/",
          "height": 33
        }
      },
      "source": [
        "# assexport = ee.batch.Export.image.toDrive(classifiedB,\n",
        "#                 description='assetExportTask', \n",
        "#                 folder='DATA_2020SummerCL',\n",
        "#                 fileNamePrefix='softRF_Mangrove',\n",
        "#                 scale=30)\n",
        "# assexportid = str(assexport.id)\n",
        "# print('****Exporting to Assets, task id: %s '%assexportid)\n",
        "# assexport.start() "
      ],
      "execution_count": 0,
      "outputs": [
        {
          "output_type": "stream",
          "text": [
            "****Exporting to Assets, task id: None \n"
          ],
          "name": "stdout"
        }
      ]
    },
    {
      "cell_type": "markdown",
      "metadata": {
        "id": "xHqUsdr_m8lV",
        "colab_type": "text"
      },
      "source": [
        "##Part C: soft RF for all classes - Batch "
      ]
    },
    {
      "cell_type": "markdown",
      "metadata": {
        "id": "omfuKKANn15z",
        "colab_type": "text"
      },
      "source": [
        "#### Classes we have are mangrove(1),wetland(2),pond(3),water(4),other(5)"
      ]
    },
    {
      "cell_type": "code",
      "metadata": {
        "id": "c8A5IsrYupV_",
        "colab_type": "code",
        "colab": {}
      },
      "source": [
        "#### Classes we have are mangrove(1),wetland(2),pond(3),water(4),other(5)\n",
        "Classes = {\n",
        "    'mangrove':mangrove,\n",
        "    'wetland':wetland,\n",
        "    'pond':pond,\n",
        "    'water':water,\n",
        "    'other':other\n",
        "}"
      ],
      "execution_count": 0,
      "outputs": []
    },
    {
      "cell_type": "code",
      "metadata": {
        "id": "tqkau8vRmQ2s",
        "colab_type": "code",
        "colab": {}
      },
      "source": [
        "def batchSoftRF(image, name):\n",
        "  # create name list to index 'Classes'\n",
        "  classname = ['mangrove','wetland','pond','water','other']\n",
        "  del classname[classname.index(name)]\n",
        "\n",
        "  # Set the class \"name\" to 1 and all others to 0\n",
        "  target = Classes[name].map(setClass)\n",
        "  other = Classes[classname[0]].map(setOther)\n",
        "  del classname[0]\n",
        "  for i in classname:\n",
        "    other = other.merge(Classes[i].map(setOther))\n",
        "  \n",
        "  # create ref points dataset\n",
        "  referenceData = target.merge(other)\n",
        "\n",
        "  # properties of image\n",
        "  spResolution = image.get('GRID_CELL_SIZE_REFLECTIVE')\n",
        "  bands = ['B1', 'B2', 'B3', 'B4', 'B5', 'B6', 'B7']\n",
        "\n",
        "  # sample data based on ref points dataset\n",
        "  training = image.sampleRegions(referenceData,['class'],30);\n",
        "  # define a classifier and train it\n",
        "  classifier = ee.Classifier.smileRandomForest(10).setOutputMode('PROBABILITY').train(training,'class',bands);\n",
        "  # Classify masked_l8.\n",
        "  classified = image.classify(classifier);\n",
        "\n",
        "  return classified\n",
        "\n",
        "\n",
        "def visualizeResult(result):\n",
        "  # # visualize the result\n",
        "  # # use folium to visualize the imagery.\n",
        "  # palette\n",
        "  palette = ['black','blue','green','yellow','orange','red','purple']\n",
        "  resultid = result.getMapId({'bands': ['classification'], 'min': 0, 'max': 1,'palette':palette})\n",
        "  map = folium.Map(location=[13.012611,101.995989])\n",
        "  folium.TileLayer(\n",
        "      tiles=resultid['tile_fetcher'].url_format,\n",
        "      attr='Map Data &copy; <a href=\"https://earthengine.google.com/\">Google Earth Engine</a>',\n",
        "      overlay=True,\n",
        "      name='median composite',\n",
        "    ).add_to(map)\n",
        "  map.add_child(folium.LayerControl())\n",
        "  map\n",
        "  return map\n"
      ],
      "execution_count": 0,
      "outputs": []
    },
    {
      "cell_type": "code",
      "metadata": {
        "id": "GvOhRQqZCOnN",
        "colab_type": "code",
        "colab": {}
      },
      "source": [
        "result_mangrove = batchSoftRF(masked_l8,'mangrove')\n",
        "visualizeResult(result_mangrove)\n",
        "\n",
        "# assexport = ee.batch.Export.image.toDrive(result_mangrove,\n",
        "#                 description='assetExportTask', \n",
        "#                 folder='DATA_2020SummerCL',\n",
        "#                 fileNamePrefix='result_mangrove_15',\n",
        "#                 scale=15,\n",
        "#                 maxPixels=9000000000)\n",
        "# assexportid = str(assexport.name)\n",
        "# print('****Exporting to Assets, task name: %s '%assexportid)\n",
        "# assexport.start() "
      ],
      "execution_count": 0,
      "outputs": []
    },
    {
      "cell_type": "code",
      "metadata": {
        "id": "MC3qgHKzFYGd",
        "colab_type": "code",
        "outputId": "50f36454-fb59-48dd-8ba4-3d5ff6e39fb9",
        "colab": {
          "base_uri": "https://localhost:8080/",
          "height": 33
        }
      },
      "source": [
        "result_wetland = batchSoftRF(masked_l8,'wetland')\n",
        "visualizeResult(result_wetland)\n",
        "\n",
        "# assexport = ee.batch.Export.image.toDrive(result_wetland,\n",
        "#                 description='assetExportTask', \n",
        "#                 folder='DATA_2020SummerCL',\n",
        "#                 fileNamePrefix='softRF_Wetland_15',\n",
        "#                 scale=15,\n",
        "#                 maxPixels=9000000000)\n",
        "# assexportid = str(assexport.name)\n",
        "# print('****Exporting to Assets, task name: %s '%assexportid)\n",
        "# assexport.start() "
      ],
      "execution_count": 0,
      "outputs": [
        {
          "output_type": "stream",
          "text": [
            "****Exporting to Assets, task name: None \n"
          ],
          "name": "stdout"
        }
      ]
    },
    {
      "cell_type": "code",
      "metadata": {
        "id": "xeyIfXoRFaYF",
        "colab_type": "code",
        "outputId": "4b8de59f-771c-4d27-ea67-baa0b0fc64fe",
        "colab": {
          "base_uri": "https://localhost:8080/",
          "height": 33
        }
      },
      "source": [
        "result_pond = batchSoftRF(masked_l8,'pond')\n",
        "visualizeResult(result_pond)\n",
        "\n",
        "# assexport = ee.batch.Export.image.toDrive(result_pond,\n",
        "#                 description='assetExportTask', \n",
        "#                 folder='DATA_2020SummerCL',\n",
        "#                 fileNamePrefix='softRF_Pond_15',\n",
        "#                 scale=15,\n",
        "#                 maxPixels=9000000000)\n",
        "# assexportid = str(assexport.name)\n",
        "# print('****Exporting to Assets, task name: %s '%assexportid)\n",
        "# assexport.start() "
      ],
      "execution_count": 0,
      "outputs": [
        {
          "output_type": "stream",
          "text": [
            "****Exporting to Assets, task name: None \n"
          ],
          "name": "stdout"
        }
      ]
    },
    {
      "cell_type": "code",
      "metadata": {
        "id": "m5iziinFFc2k",
        "colab_type": "code",
        "outputId": "36b0e33e-83a3-4855-e62a-def89e19e32e",
        "colab": {
          "base_uri": "https://localhost:8080/",
          "height": 33
        }
      },
      "source": [
        "result_water = batchSoftRF(masked_l8,'water')\n",
        "visualizeResult(result_water)\n",
        "\n",
        "# assexport = ee.batch.Export.image.toDrive(result_water,\n",
        "#                 description='assetExportTask', \n",
        "#                 folder='DATA_2020SummerCL',\n",
        "#                 fileNamePrefix='softRF_Water_15',\n",
        "#                 scale=15,\n",
        "#                 maxPixels=9000000000)\n",
        "# assexportid = str(assexport.name)\n",
        "# print('****Exporting to Assets, task name: %s '%assexportid)\n",
        "# assexport.start() "
      ],
      "execution_count": 0,
      "outputs": [
        {
          "output_type": "stream",
          "text": [
            "****Exporting to Assets, task name: None \n"
          ],
          "name": "stdout"
        }
      ]
    },
    {
      "cell_type": "code",
      "metadata": {
        "id": "zjJYrHAnFeXh",
        "colab_type": "code",
        "outputId": "3c8cb936-e1fb-4840-b118-ee32e3a70145",
        "colab": {
          "base_uri": "https://localhost:8080/",
          "height": 33
        }
      },
      "source": [
        "result_other = batchSoftRF(masked_l8,'other')\n",
        "visualizeResult(result_other)\n",
        "\n",
        "# assexport = ee.batch.Export.image.toDrive(result_other,\n",
        "#                 description='assetExportTask', \n",
        "#                 folder='DATA_2020SummerCL',\n",
        "#                 fileNamePrefix='softRF_Other_15',\n",
        "#                 scale=15,\n",
        "#                 maxPixels=9000000000)\n",
        "# assexportid = str(assexport.name)\n",
        "# print('****Exporting to Assets, task name: %s '%assexportid)\n",
        "# assexport.start() "
      ],
      "execution_count": 0,
      "outputs": [
        {
          "output_type": "stream",
          "text": [
            "****Exporting to Assets, task name: None \n"
          ],
          "name": "stdout"
        }
      ]
    },
    {
      "cell_type": "markdown",
      "metadata": {
        "id": "6OCiD3ueiCz1",
        "colab_type": "text"
      },
      "source": [
        "#Testing with GDAL"
      ]
    },
    {
      "cell_type": "code",
      "metadata": {
        "id": "d9YoP8a2iLkb",
        "colab_type": "code",
        "colab": {}
      },
      "source": [
        "from google.colab import drive\n",
        "drive.mount('/content/drive')"
      ],
      "execution_count": 0,
      "outputs": []
    },
    {
      "cell_type": "code",
      "metadata": {
        "id": "nygrYrtJPoql",
        "colab_type": "code",
        "colab": {}
      },
      "source": [
        "# GDAL\n",
        "# import osgeo\n",
        "from osgeo import gdal"
      ],
      "execution_count": 0,
      "outputs": []
    },
    {
      "cell_type": "markdown",
      "metadata": {
        "id": "NE_lkFC5Safi",
        "colab_type": "text"
      },
      "source": [
        "##Opening the File"
      ]
    },
    {
      "cell_type": "code",
      "metadata": {
        "id": "XAxXFppEQTJA",
        "colab_type": "code",
        "outputId": "a3dc9387-1a60-492e-d9b3-6bd4ea355d76",
        "colab": {
          "base_uri": "https://localhost:8080/",
          "height": 33
        }
      },
      "source": [
        "dataset = gdal.Open('/content/drive/My Drive/DATA_2020SummerCL/Landsat8Image_training_input.tif')\n",
        "panband = gdal.Open('/content/drive/My Drive/DATA_2020SummerCL/B8Panchromatic.tif')\n",
        "if not panband:\n",
        "  print(\"GG\")\n",
        "else:\n",
        "  print(\"Data read in successed!\")"
      ],
      "execution_count": 0,
      "outputs": [
        {
          "output_type": "stream",
          "text": [
            "Data read in successed!\n"
          ],
          "name": "stdout"
        }
      ]
    },
    {
      "cell_type": "markdown",
      "metadata": {
        "id": "Gp1xwbn_SYEE",
        "colab_type": "text"
      },
      "source": [
        "### Getting Dataset Information"
      ]
    },
    {
      "cell_type": "code",
      "metadata": {
        "id": "5aYm1KbHSWFA",
        "colab_type": "code",
        "outputId": "713daa41-bf0c-4efb-e140-d598bd21b819",
        "colab": {
          "base_uri": "https://localhost:8080/",
          "height": 118
        }
      },
      "source": [
        "print(\"Driver: {}/{}\".format(dataset.GetDriver().ShortName,\n",
        "                            dataset.GetDriver().LongName))\n",
        "print(\"Size is {} x {} x {}\".format(dataset.RasterXSize,\n",
        "                                    dataset.RasterYSize,\n",
        "                                    dataset.RasterCount))\n",
        "print(\"Projection is {}\".format(dataset.GetProjection()))\n",
        "geotransform = dataset.GetGeoTransform()\n",
        "if geotransform:\n",
        "    print(\"Origin = ({}, {})\".format(geotransform[0], geotransform[3]))\n",
        "    print(\"Pixel Size = ({}, {})\".format(geotransform[1], geotransform[5]))"
      ],
      "execution_count": 0,
      "outputs": [
        {
          "output_type": "stream",
          "text": [
            "Driver: GTiff/GeoTIFF\n",
            "Size is 7521 x 7693 x 7\n",
            "Projection is PROJCS[\"WGS 84 / UTM zone 47N\",GEOGCS[\"WGS 84\",DATUM[\"WGS_1984\",SPHEROID[\"WGS 84\",6378137,298.257223563,AUTHORITY[\"EPSG\",\"7030\"]],AUTHORITY[\"EPSG\",\"6326\"]],PRIMEM[\"Greenwich\",0,AUTHORITY[\"EPSG\",\"8901\"]],UNIT[\"degree\",0.0174532925199433,AUTHORITY[\"EPSG\",\"9122\"]],AUTHORITY[\"EPSG\",\"4326\"]],PROJECTION[\"Transverse_Mercator\"],PARAMETER[\"latitude_of_origin\",0],PARAMETER[\"central_meridian\",99],PARAMETER[\"scale_factor\",0.9996],PARAMETER[\"false_easting\",500000],PARAMETER[\"false_northing\",0],UNIT[\"metre\",1,AUTHORITY[\"EPSG\",\"9001\"]],AXIS[\"Easting\",EAST],AXIS[\"Northing\",NORTH],AUTHORITY[\"EPSG\",\"32647\"]]\n",
            "Origin = (711105.0, 1555365.0)\n",
            "Pixel Size = (30.0, -30.0)\n"
          ],
          "name": "stdout"
        }
      ]
    },
    {
      "cell_type": "markdown",
      "metadata": {
        "id": "4vabI1CQSf2z",
        "colab_type": "text"
      },
      "source": [
        "### Fetching a Raster Band"
      ]
    },
    {
      "cell_type": "code",
      "metadata": {
        "id": "cl2VB7-oS0Aq",
        "colab_type": "code",
        "outputId": "ead26375-e702-4c5d-9aeb-646f7283b049",
        "colab": {
          "base_uri": "https://localhost:8080/",
          "height": 50
        }
      },
      "source": [
        "band = dataset.GetRasterBand(7)\n",
        "print(\"Band Type={}\".format(gdal.GetDataTypeName(band.DataType)))\n",
        "\n",
        "min = band.GetMinimum()\n",
        "max = band.GetMaximum()\n",
        "if not min or not max:\n",
        "    (min,max) = band.ComputeRasterMinMax(True)\n",
        "print(\"Min={:.3f}, Max={:.3f}\".format(min,max))\n",
        "\n",
        "if band.GetOverviewCount() > 0:\n",
        "    print(\"Band has {} overviews\".format(band.GetOverviewCount()))\n",
        "\n",
        "if band.GetRasterColorTable():\n",
        "    print(\"Band has a color table with {} entries\".format(band.GetRasterColorTable().GetCount()))"
      ],
      "execution_count": 0,
      "outputs": [
        {
          "output_type": "stream",
          "text": [
            "Band Type=Float32\n",
            "Min=0.007, Max=0.359\n"
          ],
          "name": "stdout"
        }
      ]
    },
    {
      "cell_type": "code",
      "metadata": {
        "id": "9-enJPBnZm43",
        "colab_type": "code",
        "colab": {}
      },
      "source": [
        "opt = \"\"\"\n",
        "<VRTDataset subClass=\"VRTPansharpenedDataset\">\n",
        "    <PansharpeningOptions>\n",
        "        <PanchroBand>\n",
        "            <SourceFilename relativeToVRT=\"1\">panchromatic.tif</SourceFilename>\n",
        "            <SourceBand>1</SourceBand>\n",
        "        </PanchroBand>\n",
        "        <SpectralBand dstBand=\"1\">\n",
        "            <SourceFilename relativeToVRT=\"1\">multispectral.tif</SourceFilename>\n",
        "            <SourceBand>1</SourceBand>\n",
        "        </SpectralBand>\n",
        "        <SpectralBand dstBand=\"2\">\n",
        "            <SourceFilename relativeToVRT=\"1\">multispectral.tif</SourceFilename>\n",
        "            <SourceBand>2</SourceBand>\n",
        "        </SpectralBand>\n",
        "        <SpectralBand dstBand=\"3\">\n",
        "            <SourceFilename relativeToVRT=\"1\">multispectral.tif</SourceFilename>\n",
        "            <SourceBand>3</SourceBand>\n",
        "        </SpectralBand>\n",
        "    </PansharpeningOptions>\n",
        "</VRTDataset>\n",
        "\"\"\""
      ],
      "execution_count": 0,
      "outputs": []
    }
  ]
}